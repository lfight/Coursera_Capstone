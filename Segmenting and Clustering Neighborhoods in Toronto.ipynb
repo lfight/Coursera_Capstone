{
    "cells": [
        {
            "metadata": {},
            "cell_type": "code",
            "source": "! pip install BeautifulSoup4",
            "execution_count": 2,
            "outputs": [
                {
                    "output_type": "stream",
                    "text": "Requirement already satisfied: BeautifulSoup4 in /opt/conda/envs/Python36/lib/python3.6/site-packages (4.7.1)\r\nRequirement already satisfied: soupsieve>=1.2 in /opt/conda/envs/Python36/lib/python3.6/site-packages (from BeautifulSoup4) (1.7.1)\r\n",
                    "name": "stdout"
                }
            ]
        },
        {
            "metadata": {},
            "cell_type": "code",
            "source": "! pip install urllib",
            "execution_count": 4,
            "outputs": [
                {
                    "output_type": "stream",
                    "text": "Collecting urllib\n\u001b[31m  ERROR: Could not find a version that satisfies the requirement urllib (from versions: none)\u001b[0m\n\u001b[31mERROR: No matching distribution found for urllib\u001b[0m\n",
                    "name": "stdout"
                }
            ]
        },
        {
            "metadata": {},
            "cell_type": "code",
            "source": "from bs4 import BeautifulSoup\nimport urllib.request\ndoc = urllib.request.urlopen('https://en.wikipedia.org/wiki/List_of_postal_codes_of_Canada:_M')\ndoc = doc.read().decode('utf-8')\n",
            "execution_count": 29,
            "outputs": []
        },
        {
            "metadata": {},
            "cell_type": "code",
            "source": "soup = BeautifulSoup(doc, \"html.parser\")\n\npostal = []\nBorough = []\nNeighbor=[]\n\n\ntbs=soup.find_all('table')\ntb=tbs[0]\nif 'wikitable' in tb['class']:\n    for tr in tb.find_all('tr',):\n        td = tr.find_all('td')\n        \n        try:\n            if td[1].text.strip()!='Not assigned':\n                postal.append(td[0].text.strip())\n                Borough.append(td[1].text.strip())\n                Neighbor.append(td[2].text.strip())\n        except IndexError as e:\n            pass\n",
            "execution_count": 30,
            "outputs": []
        },
        {
            "metadata": {},
            "cell_type": "code",
            "source": "import pandas as pd\ndf=pd.DataFrame({'PostalCode':postal,'Borough':Borough,'Neighbourhood':Neighbor})\n\ndf.shape",
            "execution_count": 41,
            "outputs": [
                {
                    "output_type": "execute_result",
                    "execution_count": 41,
                    "data": {
                        "text/plain": "(103, 3)"
                    },
                    "metadata": {}
                }
            ]
        },
        {
            "metadata": {},
            "cell_type": "code",
            "source": "",
            "execution_count": 42,
            "outputs": []
        },
        {
            "metadata": {},
            "cell_type": "code",
            "source": "df.head()",
            "execution_count": 43,
            "outputs": [
                {
                    "output_type": "execute_result",
                    "execution_count": 43,
                    "data": {
                        "text/plain": "PostalCode  Borough    \nM1B         Scarborough                            Malvern, Rouge\nM1C         Scarborough    Rouge Hill, Port Union, Highland Creek\nM1E         Scarborough         Guildwood, Morningside, West Hill\nM1G         Scarborough                                    Woburn\nM1H         Scarborough                                 Cedarbrae\nName: Neighbourhood, dtype: object"
                    },
                    "metadata": {}
                }
            ]
        },
        {
            "metadata": {},
            "cell_type": "code",
            "source": "df.shape",
            "execution_count": 44,
            "outputs": [
                {
                    "output_type": "execute_result",
                    "execution_count": 44,
                    "data": {
                        "text/plain": "(103,)"
                    },
                    "metadata": {}
                }
            ]
        },
        {
            "metadata": {},
            "cell_type": "code",
            "source": "",
            "execution_count": null,
            "outputs": []
        }
    ],
    "metadata": {
        "kernelspec": {
            "name": "python3",
            "display_name": "Python 3.6",
            "language": "python"
        },
        "language_info": {
            "name": "python",
            "version": "3.6.9",
            "mimetype": "text/x-python",
            "codemirror_mode": {
                "name": "ipython",
                "version": 3
            },
            "pygments_lexer": "ipython3",
            "nbconvert_exporter": "python",
            "file_extension": ".py"
        }
    },
    "nbformat": 4,
    "nbformat_minor": 1
}