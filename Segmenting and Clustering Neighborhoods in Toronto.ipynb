{
    "cells": [
        {
            "metadata": {},
            "cell_type": "code",
            "source": "! pip install BeautifulSoup4",
            "execution_count": 2,
            "outputs": [
                {
                    "output_type": "stream",
                    "text": "Requirement already satisfied: BeautifulSoup4 in /opt/conda/envs/Python36/lib/python3.6/site-packages (4.7.1)\r\nRequirement already satisfied: soupsieve>=1.2 in /opt/conda/envs/Python36/lib/python3.6/site-packages (from BeautifulSoup4) (1.7.1)\r\n",
                    "name": "stdout"
                }
            ]
        },
        {
            "metadata": {},
            "cell_type": "code",
            "source": "! pip install urllib",
            "execution_count": 4,
            "outputs": [
                {
                    "output_type": "stream",
                    "text": "Collecting urllib\n\u001b[31m  ERROR: Could not find a version that satisfies the requirement urllib (from versions: none)\u001b[0m\n\u001b[31mERROR: No matching distribution found for urllib\u001b[0m\n",
                    "name": "stdout"
                }
            ]
        },
        {
            "metadata": {},
            "cell_type": "markdown",
            "source": "**Get the html document**"
        },
        {
            "metadata": {},
            "cell_type": "code",
            "source": "from bs4 import BeautifulSoup\nimport urllib.request\ndoc = urllib.request.urlopen('https://en.wikipedia.org/wiki/List_of_postal_codes_of_Canada:_M')\ndoc = doc.read().decode('utf-8')\n",
            "execution_count": 46,
            "outputs": []
        },
        {
            "metadata": {},
            "cell_type": "markdown",
            "source": "**Parse the html table**"
        },
        {
            "metadata": {},
            "cell_type": "code",
            "source": "soup = BeautifulSoup(doc, \"html.parser\")\n\npostal = []\nBorough = []\nNeighbor=[]\n\n\ntbs=soup.find_all('table')\ntb=tbs[0]\nif 'wikitable' in tb['class']:\n    for tr in tb.find_all('tr',):\n        td = tr.find_all('td')\n        \n        try:\n            if td[1].text.strip()!='Not assigned':\n                postal.append(td[0].text.strip())\n                Borough.append(td[1].text.strip())\n                Neighbor.append(td[2].text.strip())\n        except IndexError as e:\n            pass\n",
            "execution_count": 47,
            "outputs": []
        },
        {
            "metadata": {},
            "cell_type": "code",
            "source": "import pandas as pd\ndf=pd.DataFrame({'PostalCode':postal,'Borough':Borough,'Neighbourhood':Neighbor})",
            "execution_count": 48,
            "outputs": []
        },
        {
            "metadata": {},
            "cell_type": "code",
            "source": "df.head()",
            "execution_count": 49,
            "outputs": [
                {
                    "output_type": "execute_result",
                    "execution_count": 49,
                    "data": {
                        "text/plain": "  PostalCode           Borough                                Neighbourhood\n0        M3A        North York                                    Parkwoods\n1        M4A        North York                             Victoria Village\n2        M5A  Downtown Toronto                    Regent Park, Harbourfront\n3        M6A        North York             Lawrence Manor, Lawrence Heights\n4        M7A  Downtown Toronto  Queen's Park, Ontario Provincial Government",
                        "text/html": "<div>\n<style scoped>\n    .dataframe tbody tr th:only-of-type {\n        vertical-align: middle;\n    }\n\n    .dataframe tbody tr th {\n        vertical-align: top;\n    }\n\n    .dataframe thead th {\n        text-align: right;\n    }\n</style>\n<table border=\"1\" class=\"dataframe\">\n  <thead>\n    <tr style=\"text-align: right;\">\n      <th></th>\n      <th>PostalCode</th>\n      <th>Borough</th>\n      <th>Neighbourhood</th>\n    </tr>\n  </thead>\n  <tbody>\n    <tr>\n      <th>0</th>\n      <td>M3A</td>\n      <td>North York</td>\n      <td>Parkwoods</td>\n    </tr>\n    <tr>\n      <th>1</th>\n      <td>M4A</td>\n      <td>North York</td>\n      <td>Victoria Village</td>\n    </tr>\n    <tr>\n      <th>2</th>\n      <td>M5A</td>\n      <td>Downtown Toronto</td>\n      <td>Regent Park, Harbourfront</td>\n    </tr>\n    <tr>\n      <th>3</th>\n      <td>M6A</td>\n      <td>North York</td>\n      <td>Lawrence Manor, Lawrence Heights</td>\n    </tr>\n    <tr>\n      <th>4</th>\n      <td>M7A</td>\n      <td>Downtown Toronto</td>\n      <td>Queen's Park, Ontario Provincial Government</td>\n    </tr>\n  </tbody>\n</table>\n</div>"
                    },
                    "metadata": {}
                }
            ]
        },
        {
            "metadata": {},
            "cell_type": "code",
            "source": "df.shape",
            "execution_count": 50,
            "outputs": [
                {
                    "output_type": "execute_result",
                    "execution_count": 50,
                    "data": {
                        "text/plain": "(103, 3)"
                    },
                    "metadata": {}
                }
            ]
        },
        {
            "metadata": {},
            "cell_type": "code",
            "source": "",
            "execution_count": null,
            "outputs": []
        }
    ],
    "metadata": {
        "kernelspec": {
            "name": "python3",
            "display_name": "Python 3.6",
            "language": "python"
        },
        "language_info": {
            "name": "python",
            "version": "3.6.9",
            "mimetype": "text/x-python",
            "codemirror_mode": {
                "name": "ipython",
                "version": 3
            },
            "pygments_lexer": "ipython3",
            "nbconvert_exporter": "python",
            "file_extension": ".py"
        }
    },
    "nbformat": 4,
    "nbformat_minor": 1
}